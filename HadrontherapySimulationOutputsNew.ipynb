{
 "cells": [
  {
   "cell_type": "code",
   "execution_count": 1,
   "metadata": {},
   "outputs": [
    {
     "name": "stdout",
     "output_type": "stream",
     "text": [
      "/Users/kpadhikari/KpInstalls/Geant4/ExamplesBld/HadronTherapyNew\r\n"
     ]
    }
   ],
   "source": [
    "!pwd"
   ]
  },
  {
   "cell_type": "markdown",
   "metadata": {},
   "source": [
    "Below, I transfer data (via pd.read_csv() method) from data files into corresponding Padas dataframes."
   ]
  },
  {
   "cell_type": "code",
   "execution_count": 42,
   "metadata": {},
   "outputs": [
    {
     "name": "stdout",
     "output_type": "stream",
     "text": [
      "       i  j  k      Dose(Gy)      proton_1  proton_1.1  proton  proton.1  O16  \\\n",
      "0      0  0  0  2.560280e-09  2.489850e-09          22     0.0         0  0.0   \n",
      "1      1  0  0  2.741240e-09  2.741240e-09          22     0.0         0  0.0   \n",
      "2      2  0  0  2.812460e-09  2.656530e-09          22     0.0         0  0.0   \n",
      "3      3  0  0  2.551290e-09  2.417280e-09          22     0.0         0  0.0   \n",
      "4      4  0  0  2.729360e-09  2.729360e-09          22     0.0         0  0.0   \n",
      "..   ... .. ..           ...           ...         ...     ...       ...  ...   \n",
      "273  273  0  0  7.160800e-09  7.160800e-09           6     0.0         0  0.0   \n",
      "274  274  0  0  4.903040e-09  4.903040e-09           5     0.0         0  0.0   \n",
      "275  275  0  0  6.173410e-09  6.173410e-09           4     0.0         0  0.0   \n",
      "276  276  0  0  3.418880e-09  3.418880e-09           2     0.0         0  0.0   \n",
      "277  277  0  0  1.736530e-09  1.736530e-09           1     0.0         0  0.0   \n",
      "\n",
      "     O16.1  \n",
      "0        0  \n",
      "1        0  \n",
      "2        0  \n",
      "3        0  \n",
      "4        0  \n",
      "..     ...  \n",
      "273      0  \n",
      "274      0  \n",
      "275      0  \n",
      "276      0  \n",
      "277      0  \n",
      "\n",
      "[278 rows x 10 columns]\n"
     ]
    }
   ],
   "source": [
    "import pandas as pd\n",
    "\n",
    "# https://github.com/jupyter/notebook/issues/3805 \n",
    "#data = pd.read_csv('output_list.txt', header = None)\n",
    "#pd.read_csv('file.csv', delimiter=' ')\n",
    "#pd.read_csv('addresses.csv')\n",
    "#pd.read_csv(\"whitespace.csv\", header=None, delimiter=r\"\\s+\")\n",
    "dataframeDose = pd.read_csv(\"./OutputsTmp/Dose.out\",delim_whitespace=True) # works\n",
    "#data = pd.read_csv('./TmpBkp_defMac/Dose.out', sep=\" \", header=None) # doesn't work\n",
    "#data = pd.read_csv('./TmpBkp_defMac/Dose.out', header=None, delimiter=r\"\\s+\")  #works\n",
    "dfDose = dataframeDose\n",
    "print(dataframeDose)"
   ]
  },
  {
   "cell_type": "code",
   "execution_count": 43,
   "metadata": {},
   "outputs": [
    {
     "name": "stdout",
     "output_type": "stream",
     "text": [
      "       i  j  k      LDT      LTT  proton_1_D  proton_1_T  proton_D  proton_T  \\\n",
      "0      0  0  0  1.23817  1.19365     1.23817     1.19365       0.0       0.0   \n",
      "1      1  0  0  1.23851  1.19613     1.23851     1.19613       0.0       0.0   \n",
      "2      2  0  0  1.22875  1.19883     1.22875     1.19883       0.0       0.0   \n",
      "3      3  0  0  1.23925  1.20128     1.23925     1.20128       0.0       0.0   \n",
      "4      4  0  0  1.22082  1.20367     1.22082     1.20367       0.0       0.0   \n",
      "..   ... .. ..      ...      ...         ...         ...       ...       ...   \n",
      "395  395  0  0  0.00000  0.00000     0.00000     0.00000       0.0       0.0   \n",
      "396  396  0  0  0.00000  0.00000     0.00000     0.00000       0.0       0.0   \n",
      "397  397  0  0  0.00000  0.00000     0.00000     0.00000       0.0       0.0   \n",
      "398  398  0  0  0.00000  0.00000     0.00000     0.00000       0.0       0.0   \n",
      "399  399  0  0  0.00000  0.00000     0.00000     0.00000       0.0       0.0   \n",
      "\n",
      "     O16_D  O16_T  \n",
      "0      0.0    0.0  \n",
      "1      0.0    0.0  \n",
      "2      0.0    0.0  \n",
      "3      0.0    0.0  \n",
      "4      0.0    0.0  \n",
      "..     ...    ...  \n",
      "395    0.0    0.0  \n",
      "396    0.0    0.0  \n",
      "397    0.0    0.0  \n",
      "398    0.0    0.0  \n",
      "399    0.0    0.0  \n",
      "\n",
      "[400 rows x 11 columns]\n"
     ]
    }
   ],
   "source": [
    "dfLet = pd.read_csv(\"./OutputsTmp/Let.out\",delim_whitespace=True) # works\n",
    "print(dfLet)"
   ]
  },
  {
   "cell_type": "code",
   "execution_count": 44,
   "metadata": {},
   "outputs": [
    {
     "name": "stdout",
     "output_type": "stream",
     "text": [
      "      Dose(Gy)  ln(S)  Survival  DoseB(Gy)  RBE  depth(slice)\n",
      "0            0      0         1          0  NaN             0\n",
      "1            0      0         1          0  NaN             1\n",
      "2            0      0         1          0  NaN             2\n",
      "3            0      0         1          0  NaN             3\n",
      "4            0      0         1          0  NaN             4\n",
      "...        ...    ...       ...        ...  ...           ...\n",
      "5995         0      0         1          0  NaN          5995\n",
      "5996         0      0         1          0  NaN          5996\n",
      "5997         0      0         1          0  NaN          5997\n",
      "5998         0      0         1          0  NaN          5998\n",
      "5999         0      0         1          0  NaN          5999\n",
      "\n",
      "[6000 rows x 6 columns]\n"
     ]
    }
   ],
   "source": [
    "dfRBE = pd.read_csv(\"./OutputsTmp/RBE.out\",delim_whitespace=True) # works\n",
    "print(dfRBE)"
   ]
  },
  {
   "cell_type": "code",
   "execution_count": 45,
   "metadata": {},
   "outputs": [
    {
     "name": "stdout",
     "output_type": "stream",
     "text": [
      "           MeV  MeV*cm2/g  alpha  (into  G4_Cu,  density   =  8.96  g/cm3   )\n",
      "0     0.001000    60.7609    NaN    NaN     NaN      NaN NaN   NaN    NaN NaN\n",
      "1     0.001131    62.6050    NaN    NaN     NaN      NaN NaN   NaN    NaN NaN\n",
      "2     0.001280    64.7216    NaN    NaN     NaN      NaN NaN   NaN    NaN NaN\n",
      "3     0.001448    67.0138    NaN    NaN     NaN      NaN NaN   NaN    NaN NaN\n",
      "4     0.001638    69.3265    NaN    NaN     NaN      NaN NaN   NaN    NaN NaN\n",
      "..         ...        ...    ...    ...     ...      ...  ..   ...    ...  ..\n",
      "95  122.137000    46.4378    NaN    NaN     NaN      NaN NaN   NaN    NaN NaN\n",
      "96  138.163000    42.3738    NaN    NaN     NaN      NaN NaN   NaN    NaN NaN\n",
      "97  156.293000    38.6132    NaN    NaN     NaN      NaN NaN   NaN    NaN NaN\n",
      "98  176.801000    35.1985    NaN    NaN     NaN      NaN NaN   NaN    NaN NaN\n",
      "99  200.000000    32.1073    NaN    NaN     NaN      NaN NaN   NaN    NaN NaN\n",
      "\n",
      "[100 rows x 10 columns]\n"
     ]
    }
   ],
   "source": [
    "dfStopPow = pd.read_csv(\"./OutputsTmp/stopAlpha_Cu_1keV_200MeV.out\",delim_whitespace=True) # works\n",
    "print(dfStopPow)"
   ]
  },
  {
   "cell_type": "markdown",
   "metadata": {},
   "source": [
    "'''KPA:''' Actually, the above datafile (for stopping power) has only the first two columns. It is showing more than that because it's treating the header info as multiple columns and it's simply placing NaN below those extra columns."
   ]
  },
  {
   "cell_type": "code",
   "execution_count": 46,
   "metadata": {},
   "outputs": [
    {
     "data": {
      "text/html": [
       "<div>\n",
       "<style scoped>\n",
       "    .dataframe tbody tr th:only-of-type {\n",
       "        vertical-align: middle;\n",
       "    }\n",
       "\n",
       "    .dataframe tbody tr th {\n",
       "        vertical-align: top;\n",
       "    }\n",
       "\n",
       "    .dataframe thead th {\n",
       "        text-align: right;\n",
       "    }\n",
       "</style>\n",
       "<table border=\"1\" class=\"dataframe\">\n",
       "  <thead>\n",
       "    <tr style=\"text-align: right;\">\n",
       "      <th></th>\n",
       "      <th>MeV</th>\n",
       "      <th>MeV*cm2/g</th>\n",
       "      <th>alpha</th>\n",
       "      <th>(into</th>\n",
       "      <th>G4_Cu,</th>\n",
       "      <th>density</th>\n",
       "      <th>=</th>\n",
       "      <th>8.96</th>\n",
       "      <th>g/cm3</th>\n",
       "      <th>)</th>\n",
       "    </tr>\n",
       "  </thead>\n",
       "  <tbody>\n",
       "    <tr>\n",
       "      <th>0</th>\n",
       "      <td>0.001000</td>\n",
       "      <td>60.7609</td>\n",
       "      <td>NaN</td>\n",
       "      <td>NaN</td>\n",
       "      <td>NaN</td>\n",
       "      <td>NaN</td>\n",
       "      <td>NaN</td>\n",
       "      <td>NaN</td>\n",
       "      <td>NaN</td>\n",
       "      <td>NaN</td>\n",
       "    </tr>\n",
       "    <tr>\n",
       "      <th>1</th>\n",
       "      <td>0.001131</td>\n",
       "      <td>62.6050</td>\n",
       "      <td>NaN</td>\n",
       "      <td>NaN</td>\n",
       "      <td>NaN</td>\n",
       "      <td>NaN</td>\n",
       "      <td>NaN</td>\n",
       "      <td>NaN</td>\n",
       "      <td>NaN</td>\n",
       "      <td>NaN</td>\n",
       "    </tr>\n",
       "    <tr>\n",
       "      <th>2</th>\n",
       "      <td>0.001280</td>\n",
       "      <td>64.7216</td>\n",
       "      <td>NaN</td>\n",
       "      <td>NaN</td>\n",
       "      <td>NaN</td>\n",
       "      <td>NaN</td>\n",
       "      <td>NaN</td>\n",
       "      <td>NaN</td>\n",
       "      <td>NaN</td>\n",
       "      <td>NaN</td>\n",
       "    </tr>\n",
       "    <tr>\n",
       "      <th>3</th>\n",
       "      <td>0.001448</td>\n",
       "      <td>67.0138</td>\n",
       "      <td>NaN</td>\n",
       "      <td>NaN</td>\n",
       "      <td>NaN</td>\n",
       "      <td>NaN</td>\n",
       "      <td>NaN</td>\n",
       "      <td>NaN</td>\n",
       "      <td>NaN</td>\n",
       "      <td>NaN</td>\n",
       "    </tr>\n",
       "    <tr>\n",
       "      <th>4</th>\n",
       "      <td>0.001638</td>\n",
       "      <td>69.3265</td>\n",
       "      <td>NaN</td>\n",
       "      <td>NaN</td>\n",
       "      <td>NaN</td>\n",
       "      <td>NaN</td>\n",
       "      <td>NaN</td>\n",
       "      <td>NaN</td>\n",
       "      <td>NaN</td>\n",
       "      <td>NaN</td>\n",
       "    </tr>\n",
       "  </tbody>\n",
       "</table>\n",
       "</div>"
      ],
      "text/plain": [
       "        MeV  MeV*cm2/g  alpha  (into  G4_Cu,  density   =  8.96  g/cm3   )\n",
       "0  0.001000    60.7609    NaN    NaN     NaN      NaN NaN   NaN    NaN NaN\n",
       "1  0.001131    62.6050    NaN    NaN     NaN      NaN NaN   NaN    NaN NaN\n",
       "2  0.001280    64.7216    NaN    NaN     NaN      NaN NaN   NaN    NaN NaN\n",
       "3  0.001448    67.0138    NaN    NaN     NaN      NaN NaN   NaN    NaN NaN\n",
       "4  0.001638    69.3265    NaN    NaN     NaN      NaN NaN   NaN    NaN NaN"
      ]
     },
     "execution_count": 46,
     "metadata": {},
     "output_type": "execute_result"
    }
   ],
   "source": [
    "dfStopPow.head()"
   ]
  },
  {
   "cell_type": "code",
   "execution_count": 74,
   "metadata": {},
   "outputs": [
    {
     "data": {
      "text/plain": [
       "<matplotlib.axes._subplots.AxesSubplot at 0x116994210>"
      ]
     },
     "execution_count": 74,
     "metadata": {},
     "output_type": "execute_result"
    },
    {
     "data": {
      "image/png": "[encoded data removed]",
      "text/plain": [
       "<Figure size 432x288 with 1 Axes>"
      ]
     },
     "metadata": {
      "needs_background": "light"
     },
     "output_type": "display_data"
    }
   ],
   "source": [
    "%matplotlib inline\n",
    "dfStopPow.plot(y='MeV', color=\"Green\")"
   ]
  },
  {
   "cell_type": "code",
   "execution_count": 75,
   "metadata": {},
   "outputs": [
    {
     "data": {
      "text/plain": [
       "<matplotlib.axes._subplots.AxesSubplot at 0x116cfed50>"
      ]
     },
     "execution_count": 75,
     "metadata": {},
     "output_type": "execute_result"
    },
    {
     "data": {
      "image/png": "[encoded data removed]",
      "text/plain": [
       "<Figure size 432x288 with 1 Axes>"
      ]
     },
     "metadata": {
      "needs_background": "light"
     },
     "output_type": "display_data"
    }
   ],
   "source": [
    "%matplotlib inline\n",
    "dfStopPow.plot(y='MeV*cm2/g', color=\"Green\")"
   ]
  },
  {
   "cell_type": "code",
   "execution_count": 47,
   "metadata": {},
   "outputs": [
    {
     "data": {
      "text/html": [
       "<div>\n",
       "<style scoped>\n",
       "    .dataframe tbody tr th:only-of-type {\n",
       "        vertical-align: middle;\n",
       "    }\n",
       "\n",
       "    .dataframe tbody tr th {\n",
       "        vertical-align: top;\n",
       "    }\n",
       "\n",
       "    .dataframe thead th {\n",
       "        text-align: right;\n",
       "    }\n",
       "</style>\n",
       "<table border=\"1\" class=\"dataframe\">\n",
       "  <thead>\n",
       "    <tr style=\"text-align: right;\">\n",
       "      <th></th>\n",
       "      <th>i</th>\n",
       "      <th>j</th>\n",
       "      <th>k</th>\n",
       "      <th>Dose(Gy)</th>\n",
       "      <th>proton_1</th>\n",
       "      <th>proton_1.1</th>\n",
       "      <th>proton</th>\n",
       "      <th>proton.1</th>\n",
       "      <th>O16</th>\n",
       "      <th>O16.1</th>\n",
       "    </tr>\n",
       "  </thead>\n",
       "  <tbody>\n",
       "    <tr>\n",
       "      <th>0</th>\n",
       "      <td>0</td>\n",
       "      <td>0</td>\n",
       "      <td>0</td>\n",
       "      <td>2.560280e-09</td>\n",
       "      <td>2.489850e-09</td>\n",
       "      <td>22</td>\n",
       "      <td>0.0</td>\n",
       "      <td>0</td>\n",
       "      <td>0.0</td>\n",
       "      <td>0</td>\n",
       "    </tr>\n",
       "    <tr>\n",
       "      <th>1</th>\n",
       "      <td>1</td>\n",
       "      <td>0</td>\n",
       "      <td>0</td>\n",
       "      <td>2.741240e-09</td>\n",
       "      <td>2.741240e-09</td>\n",
       "      <td>22</td>\n",
       "      <td>0.0</td>\n",
       "      <td>0</td>\n",
       "      <td>0.0</td>\n",
       "      <td>0</td>\n",
       "    </tr>\n",
       "    <tr>\n",
       "      <th>2</th>\n",
       "      <td>2</td>\n",
       "      <td>0</td>\n",
       "      <td>0</td>\n",
       "      <td>2.812460e-09</td>\n",
       "      <td>2.656530e-09</td>\n",
       "      <td>22</td>\n",
       "      <td>0.0</td>\n",
       "      <td>0</td>\n",
       "      <td>0.0</td>\n",
       "      <td>0</td>\n",
       "    </tr>\n",
       "    <tr>\n",
       "      <th>3</th>\n",
       "      <td>3</td>\n",
       "      <td>0</td>\n",
       "      <td>0</td>\n",
       "      <td>2.551290e-09</td>\n",
       "      <td>2.417280e-09</td>\n",
       "      <td>22</td>\n",
       "      <td>0.0</td>\n",
       "      <td>0</td>\n",
       "      <td>0.0</td>\n",
       "      <td>0</td>\n",
       "    </tr>\n",
       "    <tr>\n",
       "      <th>4</th>\n",
       "      <td>4</td>\n",
       "      <td>0</td>\n",
       "      <td>0</td>\n",
       "      <td>2.729360e-09</td>\n",
       "      <td>2.729360e-09</td>\n",
       "      <td>22</td>\n",
       "      <td>0.0</td>\n",
       "      <td>0</td>\n",
       "      <td>0.0</td>\n",
       "      <td>0</td>\n",
       "    </tr>\n",
       "  </tbody>\n",
       "</table>\n",
       "</div>"
      ],
      "text/plain": [
       "   i  j  k      Dose(Gy)      proton_1  proton_1.1  proton  proton.1  O16  \\\n",
       "0  0  0  0  2.560280e-09  2.489850e-09          22     0.0         0  0.0   \n",
       "1  1  0  0  2.741240e-09  2.741240e-09          22     0.0         0  0.0   \n",
       "2  2  0  0  2.812460e-09  2.656530e-09          22     0.0         0  0.0   \n",
       "3  3  0  0  2.551290e-09  2.417280e-09          22     0.0         0  0.0   \n",
       "4  4  0  0  2.729360e-09  2.729360e-09          22     0.0         0  0.0   \n",
       "\n",
       "   O16.1  \n",
       "0      0  \n",
       "1      0  \n",
       "2      0  \n",
       "3      0  \n",
       "4      0  "
      ]
     },
     "execution_count": 47,
     "metadata": {},
     "output_type": "execute_result"
    }
   ],
   "source": [
    "dfDose.head()"
   ]
  },
  {
   "cell_type": "code",
   "execution_count": 69,
   "metadata": {},
   "outputs": [
    {
     "data": {
      "text/plain": [
       "<matplotlib.axes._subplots.AxesSubplot at 0x115c79790>"
      ]
     },
     "execution_count": 69,
     "metadata": {},
     "output_type": "execute_result"
    },
    {
     "data": {
      "image/png": "[encoded data removed]",
      "text/plain": [
       "<Figure size 432x288 with 1 Axes>"
      ]
     },
     "metadata": {
      "needs_background": "light"
     },
     "output_type": "display_data"
    }
   ],
   "source": [
    "%matplotlib inline\n",
    "dfDose.plot(y='Dose(Gy)', color=\"Green\")"
   ]
  },
  {
   "cell_type": "code",
   "execution_count": 70,
   "metadata": {},
   "outputs": [
    {
     "data": {
      "text/plain": [
       "<matplotlib.axes._subplots.AxesSubplot at 0x1168bfb90>"
      ]
     },
     "execution_count": 70,
     "metadata": {},
     "output_type": "execute_result"
    },
    {
     "data": {
      "image/png": "[encoded data removed]",
      "text/plain": [
       "<Figure size 432x288 with 1 Axes>"
      ]
     },
     "metadata": {
      "needs_background": "light"
     },
     "output_type": "display_data"
    }
   ],
   "source": [
    "dfDose.plot(y='proton_1', color=\"Green\")"
   ]
  },
  {
   "cell_type": "code",
   "execution_count": 72,
   "metadata": {},
   "outputs": [
    {
     "data": {
      "text/plain": [
       "<matplotlib.axes._subplots.AxesSubplot at 0x116a73f10>"
      ]
     },
     "execution_count": 72,
     "metadata": {},
     "output_type": "execute_result"
    },
    {
     "data": {
      "image/png": "[encoded data removed]",
      "text/plain": [
       "<Figure size 432x288 with 1 Axes>"
      ]
     },
     "metadata": {
      "needs_background": "light"
     },
     "output_type": "display_data"
    }
   ],
   "source": [
    "dfDose.plot(y='proton', color=\"Green\")"
   ]
  },
  {
   "cell_type": "code",
   "execution_count": 71,
   "metadata": {},
   "outputs": [
    {
     "data": {
      "text/plain": [
       "<matplotlib.axes._subplots.AxesSubplot at 0x11698eb90>"
      ]
     },
     "execution_count": 71,
     "metadata": {},
     "output_type": "execute_result"
    },
    {
     "data": {
      "image/png": "[encoded data removed]",
      "text/plain": [
       "<Figure size 432x288 with 1 Axes>"
      ]
     },
     "metadata": {
      "needs_background": "light"
     },
     "output_type": "display_data"
    }
   ],
   "source": [
    "dfDose.plot(y='O16', color=\"Green\")"
   ]
  },
  {
   "cell_type": "code",
   "execution_count": 48,
   "metadata": {},
   "outputs": [
    {
     "data": {
      "text/html": [
       "<div>\n",
       "<style scoped>\n",
       "    .dataframe tbody tr th:only-of-type {\n",
       "        vertical-align: middle;\n",
       "    }\n",
       "\n",
       "    .dataframe tbody tr th {\n",
       "        vertical-align: top;\n",
       "    }\n",
       "\n",
       "    .dataframe thead th {\n",
       "        text-align: right;\n",
       "    }\n",
       "</style>\n",
       "<table border=\"1\" class=\"dataframe\">\n",
       "  <thead>\n",
       "    <tr style=\"text-align: right;\">\n",
       "      <th></th>\n",
       "      <th>Dose(Gy)</th>\n",
       "      <th>ln(S)</th>\n",
       "      <th>Survival</th>\n",
       "      <th>DoseB(Gy)</th>\n",
       "      <th>RBE</th>\n",
       "      <th>depth(slice)</th>\n",
       "    </tr>\n",
       "  </thead>\n",
       "  <tbody>\n",
       "    <tr>\n",
       "      <th>0</th>\n",
       "      <td>0</td>\n",
       "      <td>0</td>\n",
       "      <td>1</td>\n",
       "      <td>0</td>\n",
       "      <td>NaN</td>\n",
       "      <td>0</td>\n",
       "    </tr>\n",
       "    <tr>\n",
       "      <th>1</th>\n",
       "      <td>0</td>\n",
       "      <td>0</td>\n",
       "      <td>1</td>\n",
       "      <td>0</td>\n",
       "      <td>NaN</td>\n",
       "      <td>1</td>\n",
       "    </tr>\n",
       "    <tr>\n",
       "      <th>2</th>\n",
       "      <td>0</td>\n",
       "      <td>0</td>\n",
       "      <td>1</td>\n",
       "      <td>0</td>\n",
       "      <td>NaN</td>\n",
       "      <td>2</td>\n",
       "    </tr>\n",
       "    <tr>\n",
       "      <th>3</th>\n",
       "      <td>0</td>\n",
       "      <td>0</td>\n",
       "      <td>1</td>\n",
       "      <td>0</td>\n",
       "      <td>NaN</td>\n",
       "      <td>3</td>\n",
       "    </tr>\n",
       "    <tr>\n",
       "      <th>4</th>\n",
       "      <td>0</td>\n",
       "      <td>0</td>\n",
       "      <td>1</td>\n",
       "      <td>0</td>\n",
       "      <td>NaN</td>\n",
       "      <td>4</td>\n",
       "    </tr>\n",
       "  </tbody>\n",
       "</table>\n",
       "</div>"
      ],
      "text/plain": [
       "   Dose(Gy)  ln(S)  Survival  DoseB(Gy)  RBE  depth(slice)\n",
       "0         0      0         1          0  NaN             0\n",
       "1         0      0         1          0  NaN             1\n",
       "2         0      0         1          0  NaN             2\n",
       "3         0      0         1          0  NaN             3\n",
       "4         0      0         1          0  NaN             4"
      ]
     },
     "execution_count": 48,
     "metadata": {},
     "output_type": "execute_result"
    }
   ],
   "source": [
    "dfRBE.head()"
   ]
  },
  {
   "cell_type": "code",
   "execution_count": 49,
   "metadata": {},
   "outputs": [
    {
     "data": {
      "text/html": [
       "<div>\n",
       "<style scoped>\n",
       "    .dataframe tbody tr th:only-of-type {\n",
       "        vertical-align: middle;\n",
       "    }\n",
       "\n",
       "    .dataframe tbody tr th {\n",
       "        vertical-align: top;\n",
       "    }\n",
       "\n",
       "    .dataframe thead th {\n",
       "        text-align: right;\n",
       "    }\n",
       "</style>\n",
       "<table border=\"1\" class=\"dataframe\">\n",
       "  <thead>\n",
       "    <tr style=\"text-align: right;\">\n",
       "      <th></th>\n",
       "      <th>i</th>\n",
       "      <th>j</th>\n",
       "      <th>k</th>\n",
       "      <th>LDT</th>\n",
       "      <th>LTT</th>\n",
       "      <th>proton_1_D</th>\n",
       "      <th>proton_1_T</th>\n",
       "      <th>proton_D</th>\n",
       "      <th>proton_T</th>\n",
       "      <th>O16_D</th>\n",
       "      <th>O16_T</th>\n",
       "    </tr>\n",
       "  </thead>\n",
       "  <tbody>\n",
       "    <tr>\n",
       "      <th>0</th>\n",
       "      <td>0</td>\n",
       "      <td>0</td>\n",
       "      <td>0</td>\n",
       "      <td>1.23817</td>\n",
       "      <td>1.19365</td>\n",
       "      <td>1.23817</td>\n",
       "      <td>1.19365</td>\n",
       "      <td>0.0</td>\n",
       "      <td>0.0</td>\n",
       "      <td>0.0</td>\n",
       "      <td>0.0</td>\n",
       "    </tr>\n",
       "    <tr>\n",
       "      <th>1</th>\n",
       "      <td>1</td>\n",
       "      <td>0</td>\n",
       "      <td>0</td>\n",
       "      <td>1.23851</td>\n",
       "      <td>1.19613</td>\n",
       "      <td>1.23851</td>\n",
       "      <td>1.19613</td>\n",
       "      <td>0.0</td>\n",
       "      <td>0.0</td>\n",
       "      <td>0.0</td>\n",
       "      <td>0.0</td>\n",
       "    </tr>\n",
       "    <tr>\n",
       "      <th>2</th>\n",
       "      <td>2</td>\n",
       "      <td>0</td>\n",
       "      <td>0</td>\n",
       "      <td>1.22875</td>\n",
       "      <td>1.19883</td>\n",
       "      <td>1.22875</td>\n",
       "      <td>1.19883</td>\n",
       "      <td>0.0</td>\n",
       "      <td>0.0</td>\n",
       "      <td>0.0</td>\n",
       "      <td>0.0</td>\n",
       "    </tr>\n",
       "    <tr>\n",
       "      <th>3</th>\n",
       "      <td>3</td>\n",
       "      <td>0</td>\n",
       "      <td>0</td>\n",
       "      <td>1.23925</td>\n",
       "      <td>1.20128</td>\n",
       "      <td>1.23925</td>\n",
       "      <td>1.20128</td>\n",
       "      <td>0.0</td>\n",
       "      <td>0.0</td>\n",
       "      <td>0.0</td>\n",
       "      <td>0.0</td>\n",
       "    </tr>\n",
       "    <tr>\n",
       "      <th>4</th>\n",
       "      <td>4</td>\n",
       "      <td>0</td>\n",
       "      <td>0</td>\n",
       "      <td>1.22082</td>\n",
       "      <td>1.20367</td>\n",
       "      <td>1.22082</td>\n",
       "      <td>1.20367</td>\n",
       "      <td>0.0</td>\n",
       "      <td>0.0</td>\n",
       "      <td>0.0</td>\n",
       "      <td>0.0</td>\n",
       "    </tr>\n",
       "  </tbody>\n",
       "</table>\n",
       "</div>"
      ],
      "text/plain": [
       "   i  j  k      LDT      LTT  proton_1_D  proton_1_T  proton_D  proton_T  \\\n",
       "0  0  0  0  1.23817  1.19365     1.23817     1.19365       0.0       0.0   \n",
       "1  1  0  0  1.23851  1.19613     1.23851     1.19613       0.0       0.0   \n",
       "2  2  0  0  1.22875  1.19883     1.22875     1.19883       0.0       0.0   \n",
       "3  3  0  0  1.23925  1.20128     1.23925     1.20128       0.0       0.0   \n",
       "4  4  0  0  1.22082  1.20367     1.22082     1.20367       0.0       0.0   \n",
       "\n",
       "   O16_D  O16_T  \n",
       "0    0.0    0.0  \n",
       "1    0.0    0.0  \n",
       "2    0.0    0.0  \n",
       "3    0.0    0.0  \n",
       "4    0.0    0.0  "
      ]
     },
     "execution_count": 49,
     "metadata": {},
     "output_type": "execute_result"
    }
   ],
   "source": [
    "dfLet.head()"
   ]
  },
  {
   "cell_type": "code",
   "execution_count": 50,
   "metadata": {},
   "outputs": [
    {
     "ename": "ModuleNotFoundError",
     "evalue": "No module named 'pandas.io.data'",
     "output_type": "error",
     "traceback": [
      "\u001b[0;31m---------------------------------------------------------------------------\u001b[0m",
      "\u001b[0;31mModuleNotFoundError\u001b[0m                       Traceback (most recent call last)",
      "\u001b[0;32m<ipython-input-50-a037bd014590>\u001b[0m in \u001b[0;36m<module>\u001b[0;34m\u001b[0m\n\u001b[0;32m----> 1\u001b[0;31m \u001b[0;32mimport\u001b[0m \u001b[0mpandas\u001b[0m\u001b[0;34m.\u001b[0m\u001b[0mio\u001b[0m\u001b[0;34m.\u001b[0m\u001b[0mdata\u001b[0m \u001b[0;32mas\u001b[0m \u001b[0mweb\u001b[0m\u001b[0;34m\u001b[0m\u001b[0;34m\u001b[0m\u001b[0m\n\u001b[0m",
      "\u001b[0;31mModuleNotFoundError\u001b[0m: No module named 'pandas.io.data'"
     ]
    }
   ],
   "source": [
    "import pandas.io.data as web"
   ]
  },
  {
   "cell_type": "markdown",
   "metadata": {},
   "source": [
    "https://github.com/jupyter/notebook/issues/3798 (also https://stackoverflow.com/questions/51886766/import-pandas-io-data-as-web-gives-me-a-error-saying-no-module-name-for-panda) Warning: In pandas 0.17.0, the pandas.io.data will be removed in favor of a separately installable pandas-datareader package. This will allow the data modules to be independently updated to your pandas installation. The API for pandas-datareader v0.1.1 is the same as in pandas v0.16.1 (GH8961).\n",
    "\n",
    "YOu should replace the imports of the following:\n",
    "\n",
    "**from pandas.io import data, wb**\n",
    "\n",
    "with \n",
    "\n",
    "**from pandas_datareader import data, wb**"
   ]
  },
  {
   "cell_type": "code",
   "execution_count": 61,
   "metadata": {},
   "outputs": [],
   "source": [
    "import pandas_datareader as web  #works\n",
    "#from pandas_datareader import data #works"
   ]
  },
  {
   "cell_type": "code",
   "execution_count": 62,
   "metadata": {},
   "outputs": [
    {
     "ename": "ImmediateDeprecationError",
     "evalue": "\nGoogle finance has been immediately deprecated due to large breaks in the API without the\nintroduction of a stable replacement. Pull Requests to re-enable these data\nconnectors are welcome.\n\nSee https://github.com/pydata/pandas-datareader/issues\n",
     "output_type": "error",
     "traceback": [
      "\u001b[0;31m---------------------------------------------------------------------------\u001b[0m",
      "\u001b[0;31mImmediateDeprecationError\u001b[0m                 Traceback (most recent call last)",
      "\u001b[0;32m<ipython-input-62-dbbb67a10f9c>\u001b[0m in \u001b[0;36m<module>\u001b[0;34m\u001b[0m\n\u001b[0;32m----> 1\u001b[0;31m \u001b[0mdf\u001b[0m \u001b[0;34m=\u001b[0m \u001b[0mweb\u001b[0m\u001b[0;34m.\u001b[0m\u001b[0mDataReader\u001b[0m\u001b[0;34m(\u001b[0m\u001b[0;34m'AAPL'\u001b[0m\u001b[0;34m,\u001b[0m \u001b[0;34m'google'\u001b[0m\u001b[0;34m,\u001b[0m \u001b[0;34m'2016/1/1'\u001b[0m\u001b[0;34m,\u001b[0m \u001b[0;34m'2017/1/1'\u001b[0m\u001b[0;34m)\u001b[0m\u001b[0;34m\u001b[0m\u001b[0;34m\u001b[0m\u001b[0m\n\u001b[0m",
      "\u001b[0;32m/usr/local/lib/python3.7/site-packages/pandas_datareader/data.py\u001b[0m in \u001b[0;36mDataReader\u001b[0;34m(name, data_source, start, end, retry_count, pause, session, access_key)\u001b[0m\n\u001b[1;32m    314\u001b[0m                                  \u001b[0mchunksize\u001b[0m\u001b[0;34m=\u001b[0m\u001b[0;36m25\u001b[0m\u001b[0;34m,\u001b[0m\u001b[0;34m\u001b[0m\u001b[0;34m\u001b[0m\u001b[0m\n\u001b[1;32m    315\u001b[0m                                  \u001b[0mretry_count\u001b[0m\u001b[0;34m=\u001b[0m\u001b[0mretry_count\u001b[0m\u001b[0;34m,\u001b[0m \u001b[0mpause\u001b[0m\u001b[0;34m=\u001b[0m\u001b[0mpause\u001b[0m\u001b[0;34m,\u001b[0m\u001b[0;34m\u001b[0m\u001b[0;34m\u001b[0m\u001b[0m\n\u001b[0;32m--> 316\u001b[0;31m                                  session=session).read()\n\u001b[0m\u001b[1;32m    317\u001b[0m \u001b[0;34m\u001b[0m\u001b[0m\n\u001b[1;32m    318\u001b[0m     \u001b[0;32melif\u001b[0m \u001b[0mdata_source\u001b[0m \u001b[0;34m==\u001b[0m \u001b[0;34m\"iex\"\u001b[0m\u001b[0;34m:\u001b[0m\u001b[0;34m\u001b[0m\u001b[0;34m\u001b[0m\u001b[0m\n",
      "\u001b[0;32m/usr/local/lib/python3.7/site-packages/pandas_datareader/google/daily.py\u001b[0m in \u001b[0;36m__init__\u001b[0;34m(self, symbols, start, end, retry_count, pause, session, chunksize)\u001b[0m\n\u001b[1;32m     34\u001b[0m     def __init__(self, symbols=None, start=None, end=None, retry_count=3,\n\u001b[1;32m     35\u001b[0m                  pause=0.1, session=None, chunksize=25):\n\u001b[0;32m---> 36\u001b[0;31m         \u001b[0;32mraise\u001b[0m \u001b[0mImmediateDeprecationError\u001b[0m\u001b[0;34m(\u001b[0m\u001b[0mDEP_ERROR_MSG\u001b[0m\u001b[0;34m.\u001b[0m\u001b[0mformat\u001b[0m\u001b[0;34m(\u001b[0m\u001b[0;34m'Google finance'\u001b[0m\u001b[0;34m)\u001b[0m\u001b[0;34m)\u001b[0m\u001b[0;34m\u001b[0m\u001b[0;34m\u001b[0m\u001b[0m\n\u001b[0m\u001b[1;32m     37\u001b[0m         super(GoogleDailyReader, self).__init__(symbols, start, end,\n\u001b[1;32m     38\u001b[0m                                                 \u001b[0mretry_count\u001b[0m\u001b[0;34m,\u001b[0m \u001b[0mpause\u001b[0m\u001b[0;34m,\u001b[0m \u001b[0msession\u001b[0m\u001b[0;34m,\u001b[0m\u001b[0;34m\u001b[0m\u001b[0;34m\u001b[0m\u001b[0m\n",
      "\u001b[0;31mImmediateDeprecationError\u001b[0m: \nGoogle finance has been immediately deprecated due to large breaks in the API without the\nintroduction of a stable replacement. Pull Requests to re-enable these data\nconnectors are welcome.\n\nSee https://github.com/pydata/pandas-datareader/issues\n"
     ]
    }
   ],
   "source": [
    "df = web.DataReader('AAPL', 'google', '2016/1/1', '2017/1/1')"
   ]
  },
  {
   "cell_type": "code",
   "execution_count": 67,
   "metadata": {},
   "outputs": [
    {
     "data": {
      "text/plain": [
       "<matplotlib.axes._subplots.AxesSubplot at 0x115bae410>"
      ]
     },
     "execution_count": 67,
     "metadata": {},
     "output_type": "execute_result"
    },
    {
     "data": {
      "image/png": "[encoded data removed]",
      "text/plain": [
       "<Figure size 432x288 with 1 Axes>"
      ]
     },
     "metadata": {
      "needs_background": "light"
     },
     "output_type": "display_data"
    }
   ],
   "source": [
    "%matplotlib inline\n",
    "dfLet.plot(y='LDT', color=\"Green\")"
   ]
  },
  {
   "cell_type": "code",
   "execution_count": 68,
   "metadata": {},
   "outputs": [
    {
     "data": {
      "text/plain": [
       "<matplotlib.axes._subplots.AxesSubplot at 0x115c743d0>"
      ]
     },
     "execution_count": 68,
     "metadata": {},
     "output_type": "execute_result"
    },
    {
     "data": {
      "image/png": "[encoded data removed]",
      "text/plain": [
       "<Figure size 432x288 with 1 Axes>"
      ]
     },
     "metadata": {
      "needs_background": "light"
     },
     "output_type": "display_data"
    }
   ],
   "source": [
    "dfLet.plot(y='LTT', color=\"Green\")"
   ]
  },
  {
   "cell_type": "code",
   "execution_count": 73,
   "metadata": {},
   "outputs": [
    {
     "data": {
      "text/plain": [
       "<matplotlib.axes._subplots.AxesSubplot at 0x116b42f50>"
      ]
     },
     "execution_count": 73,
     "metadata": {},
     "output_type": "execute_result"
    },
    {
     "data": {
      "image/png": "[encoded data removed]",
      "text/plain": [
       "<Figure size 432x288 with 1 Axes>"
      ]
     },
     "metadata": {
      "needs_background": "light"
     },
     "output_type": "display_data"
    }
   ],
   "source": [
    "dfLet.plot(y='proton_1_D', color=\"Green\")"
   ]
  },
  {
   "cell_type": "code",
   "execution_count": null,
   "metadata": {},
   "outputs": [],
   "source": []
  }
 ],
 "metadata": {
  "kernelspec": {
   "display_name": "Python 3",
   "language": "python",
   "name": "python3"
  },
  "language_info": {
   "codemirror_mode": {
    "name": "ipython",
    "version": 3
   },
   "file_extension": ".py",
   "mimetype": "text/x-python",
   "name": "python",
   "nbconvert_exporter": "python",
   "pygments_lexer": "ipython3",
   "version": "3.7.4"
  }
 },
 "nbformat": 4,
 "nbformat_minor": 2
}
