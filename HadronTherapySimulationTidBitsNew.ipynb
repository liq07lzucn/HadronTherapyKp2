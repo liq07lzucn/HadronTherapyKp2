{
 "cells": [
  {
   "cell_type": "code",
   "execution_count": 1,
   "metadata": {},
   "outputs": [
    {
     "name": "stdout",
     "output_type": "stream",
     "text": [
      "/Users/kpadhikari/KpInstalls/Geant4/ExamplesBld/HadronTherapyNew\r\n"
     ]
    }
   ],
   "source": [
    "!pwd"
   ]
  },
  {
   "cell_type": "code",
   "execution_count": 3,
   "metadata": {},
   "outputs": [
    {
     "name": "stdout",
     "output_type": "stream",
     "text": [
      "       i  j  k      Dose(Gy)      proton_1  proton_1.1  proton  proton.1  O16  \\\n",
      "0      0  0  0  2.560280e-09  2.489850e-09          22     0.0         0  0.0   \n",
      "1      1  0  0  2.741240e-09  2.741240e-09          22     0.0         0  0.0   \n",
      "2      2  0  0  2.812460e-09  2.656530e-09          22     0.0         0  0.0   \n",
      "3      3  0  0  2.551290e-09  2.417280e-09          22     0.0         0  0.0   \n",
      "4      4  0  0  2.729360e-09  2.729360e-09          22     0.0         0  0.0   \n",
      "..   ... .. ..           ...           ...         ...     ...       ...  ...   \n",
      "273  273  0  0  7.160800e-09  7.160800e-09           6     0.0         0  0.0   \n",
      "274  274  0  0  4.903040e-09  4.903040e-09           5     0.0         0  0.0   \n",
      "275  275  0  0  6.173410e-09  6.173410e-09           4     0.0         0  0.0   \n",
      "276  276  0  0  3.418880e-09  3.418880e-09           2     0.0         0  0.0   \n",
      "277  277  0  0  1.736530e-09  1.736530e-09           1     0.0         0  0.0   \n",
      "\n",
      "     O16.1  \n",
      "0        0  \n",
      "1        0  \n",
      "2        0  \n",
      "3        0  \n",
      "4        0  \n",
      "..     ...  \n",
      "273      0  \n",
      "274      0  \n",
      "275      0  \n",
      "276      0  \n",
      "277      0  \n",
      "\n",
      "[278 rows x 10 columns]\n"
     ]
    }
   ],
   "source": [
    "import pandas as pd\n",
    "\n",
    "# https://github.com/jupyter/notebook/issues/3805 \n",
    "#data = pd.read_csv('output_list.txt', header = None)\n",
    "#pd.read_csv('file.csv', delimiter=' ')\n",
    "#pd.read_csv('addresses.csv')\n",
    "#pd.read_csv(\"whitespace.csv\", header=None, delimiter=r\"\\s+\")\n",
    "dataDose = pd.read_csv(\"./OutputsTmp/Dose.out\",delim_whitespace=True) # works\n",
    "#data = pd.read_csv('./TmpBkp_defMac/Dose.out', sep=\" \", header=None) # doesn't work\n",
    "#data = pd.read_csv('./TmpBkp_defMac/Dose.out', header=None, delimiter=r\"\\s+\")  #works\n",
    "\n",
    "print(dataDose)"
   ]
  },
  {
   "cell_type": "code",
   "execution_count": 4,
   "metadata": {},
   "outputs": [
    {
     "name": "stdout",
     "output_type": "stream",
     "text": [
      "       i  j  k      LDT      LTT  proton_1_D  proton_1_T  proton_D  proton_T  \\\n",
      "0      0  0  0  1.23817  1.19365     1.23817     1.19365       0.0       0.0   \n",
      "1      1  0  0  1.23851  1.19613     1.23851     1.19613       0.0       0.0   \n",
      "2      2  0  0  1.22875  1.19883     1.22875     1.19883       0.0       0.0   \n",
      "3      3  0  0  1.23925  1.20128     1.23925     1.20128       0.0       0.0   \n",
      "4      4  0  0  1.22082  1.20367     1.22082     1.20367       0.0       0.0   \n",
      "..   ... .. ..      ...      ...         ...         ...       ...       ...   \n",
      "395  395  0  0  0.00000  0.00000     0.00000     0.00000       0.0       0.0   \n",
      "396  396  0  0  0.00000  0.00000     0.00000     0.00000       0.0       0.0   \n",
      "397  397  0  0  0.00000  0.00000     0.00000     0.00000       0.0       0.0   \n",
      "398  398  0  0  0.00000  0.00000     0.00000     0.00000       0.0       0.0   \n",
      "399  399  0  0  0.00000  0.00000     0.00000     0.00000       0.0       0.0   \n",
      "\n",
      "     O16_D  O16_T  \n",
      "0      0.0    0.0  \n",
      "1      0.0    0.0  \n",
      "2      0.0    0.0  \n",
      "3      0.0    0.0  \n",
      "4      0.0    0.0  \n",
      "..     ...    ...  \n",
      "395    0.0    0.0  \n",
      "396    0.0    0.0  \n",
      "397    0.0    0.0  \n",
      "398    0.0    0.0  \n",
      "399    0.0    0.0  \n",
      "\n",
      "[400 rows x 11 columns]\n"
     ]
    }
   ],
   "source": [
    "dataLet = pd.read_csv(\"./OutputsTmp/Let.out\",delim_whitespace=True) # works\n",
    "print(dataLet)"
   ]
  },
  {
   "cell_type": "code",
   "execution_count": 5,
   "metadata": {},
   "outputs": [
    {
     "name": "stdout",
     "output_type": "stream",
     "text": [
      "      Dose(Gy)  ln(S)  Survival  DoseB(Gy)  RBE  depth(slice)\n",
      "0            0      0         1          0  NaN             0\n",
      "1            0      0         1          0  NaN             1\n",
      "2            0      0         1          0  NaN             2\n",
      "3            0      0         1          0  NaN             3\n",
      "4            0      0         1          0  NaN             4\n",
      "...        ...    ...       ...        ...  ...           ...\n",
      "5995         0      0         1          0  NaN          5995\n",
      "5996         0      0         1          0  NaN          5996\n",
      "5997         0      0         1          0  NaN          5997\n",
      "5998         0      0         1          0  NaN          5998\n",
      "5999         0      0         1          0  NaN          5999\n",
      "\n",
      "[6000 rows x 6 columns]\n"
     ]
    }
   ],
   "source": [
    "dataRBE = pd.read_csv(\"./OutputsTmp/RBE.out\",delim_whitespace=True) # works\n",
    "print(dataRBE)"
   ]
  },
  {
   "cell_type": "code",
   "execution_count": 6,
   "metadata": {},
   "outputs": [
    {
     "name": "stdout",
     "output_type": "stream",
     "text": [
      "           MeV  MeV*cm2/g  alpha  (into  G4_Cu,  density   =  8.96  g/cm3   )\n",
      "0     0.001000    60.7609    NaN    NaN     NaN      NaN NaN   NaN    NaN NaN\n",
      "1     0.001131    62.6050    NaN    NaN     NaN      NaN NaN   NaN    NaN NaN\n",
      "2     0.001280    64.7216    NaN    NaN     NaN      NaN NaN   NaN    NaN NaN\n",
      "3     0.001448    67.0138    NaN    NaN     NaN      NaN NaN   NaN    NaN NaN\n",
      "4     0.001638    69.3265    NaN    NaN     NaN      NaN NaN   NaN    NaN NaN\n",
      "..         ...        ...    ...    ...     ...      ...  ..   ...    ...  ..\n",
      "95  122.137000    46.4378    NaN    NaN     NaN      NaN NaN   NaN    NaN NaN\n",
      "96  138.163000    42.3738    NaN    NaN     NaN      NaN NaN   NaN    NaN NaN\n",
      "97  156.293000    38.6132    NaN    NaN     NaN      NaN NaN   NaN    NaN NaN\n",
      "98  176.801000    35.1985    NaN    NaN     NaN      NaN NaN   NaN    NaN NaN\n",
      "99  200.000000    32.1073    NaN    NaN     NaN      NaN NaN   NaN    NaN NaN\n",
      "\n",
      "[100 rows x 10 columns]\n"
     ]
    }
   ],
   "source": [
    "dataStopPow = pd.read_csv(\"./OutputsTmp/stopAlpha_Cu_1keV_200MeV.out\",delim_whitespace=True) # works\n",
    "print(dataStopPow)"
   ]
  },
  {
   "cell_type": "markdown",
   "metadata": {},
   "source": [
    "'''KPA:''' Actually, the above datafile (for stopping power) has only the first two columns. It is showing more than that because it's treating the header info as multiple columns and it's simply placing NaN below those extra columns."
   ]
  },
  {
   "cell_type": "code",
   "execution_count": null,
   "metadata": {},
   "outputs": [],
   "source": []
  }
 ],
 "metadata": {
  "kernelspec": {
   "display_name": "Python 3",
   "language": "python",
   "name": "python3"
  },
  "language_info": {
   "codemirror_mode": {
    "name": "ipython",
    "version": 3
   },
   "file_extension": ".py",
   "mimetype": "text/x-python",
   "name": "python",
   "nbconvert_exporter": "python",
   "pygments_lexer": "ipython3",
   "version": "3.7.4"
  }
 },
 "nbformat": 4,
 "nbformat_minor": 2
}
